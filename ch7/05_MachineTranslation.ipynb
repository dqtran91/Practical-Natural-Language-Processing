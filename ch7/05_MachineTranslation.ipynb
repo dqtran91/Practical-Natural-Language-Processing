{
 "nbformat": 4,
 "nbformat_minor": 0,
 "metadata": {
  "kernelspec": {
   "display_name": "Python 3",
   "language": "python",
   "name": "python3"
  },
  "language_info": {
   "codemirror_mode": {
    "name": "ipython",
    "version": 3
   },
   "file_extension": ".py",
   "mimetype": "text/x-python",
   "name": "python",
   "nbconvert_exporter": "python",
   "pygments_lexer": "ipython3",
   "version": "3.7.9"
  },
  "colab": {
   "name": "05_MachineTranslation.ipynb",
   "provenance": [
    {
     "file_id": "https://github.com/practical-nlp/practical-nlp-code/blob/master/Ch7/05_MachineTranslation.ipynb",
     "timestamp": 1631660127816
    }
   ]
  }
 },
 "cells": [
  {
   "cell_type": "markdown",
   "metadata": {
    "id": "OoyBpcLmhYtF"
   },
   "source": [
    "This piece of code demonstrates using the Machine Translation service provided by Microsoft's Azure Cognitive services API "
   ]
  },
  {
   "cell_type": "code",
   "metadata": {
    "id": "aUFmQQumhYtG",
    "colab": {
     "base_uri": "https://localhost:8080/"
    },
    "executionInfo": {
     "status": "ok",
     "timestamp": 1631660497491,
     "user_tz": 240,
     "elapsed": 4631,
     "user": {
      "displayName": "dung tran",
      "photoUrl": "https://lh3.googleusercontent.com/a-/AOh14Gj3Re1ab2ZEJ5Z3LszcblJMPlArZupaifrPJWH2RXM=s64",
      "userId": "14954118940859551276"
     }
    },
    "outputId": "bfc079f7-3955-41d2-ccae-56c4de330f2e"
   },
   "source": [
    "!pip install requests"
   ],
   "execution_count": null,
   "outputs": [
    {
     "output_type": "stream",
     "name": "stdout",
     "text": [
      "Requirement already satisfied: requests in /usr/local/lib/python3.7/dist-packages (2.23.0)\n",
      "Requirement already satisfied: urllib3!=1.25.0,!=1.25.1,<1.26,>=1.21.1 in /usr/local/lib/python3.7/dist-packages (from requests) (1.24.3)\n",
      "Requirement already satisfied: chardet<4,>=3.0.2 in /usr/local/lib/python3.7/dist-packages (from requests) (3.0.4)\n",
      "Requirement already satisfied: idna<3,>=2.5 in /usr/local/lib/python3.7/dist-packages (from requests) (2.10)\n",
      "Requirement already satisfied: certifi>=2017.4.17 in /usr/local/lib/python3.7/dist-packages (from requests) (2021.5.30)\n"
     ]
    }
   ]
  },
  {
   "cell_type": "code",
   "metadata": {
    "id": "bKYXQ0B4hYtH"
   },
   "source": [
    "import os, requests, uuid, json"
   ],
   "execution_count": null,
   "outputs": []
  },
  {
   "cell_type": "code",
   "metadata": {
    "id": "_SGTj-iWhYtH"
   },
   "source": [
    "# You will need a subscription key - you can use trial version\n",
    "# This will be user based\n",
    "\n",
    "subscription_key = \"\"\n",
    "endpoint = \"https://api.cognitive.microsofttranslator.com\"\n",
    "path = '/translate?api-version=3.0'\n",
    "location = \"eastus2\"\n",
    "params = '&to=de' #From English to German (de)\n",
    "constructed_url = endpoint + path + params"
   ],
   "execution_count": null,
   "outputs": []
  },
  {
   "cell_type": "code",
   "metadata": {
    "id": "NJTdf8HKhYtI",
    "colab": {
     "base_uri": "https://localhost:8080/"
    },
    "executionInfo": {
     "status": "ok",
     "timestamp": 1631661956646,
     "user_tz": 240,
     "elapsed": 897,
     "user": {
      "displayName": "dung tran",
      "photoUrl": "https://lh3.googleusercontent.com/a-/AOh14Gj3Re1ab2ZEJ5Z3LszcblJMPlArZupaifrPJWH2RXM=s64",
      "userId": "14954118940859551276"
     }
    },
    "outputId": "2dc72f2c-bc70-4f2a-8a42-5a42dc288818"
   },
   "source": [
    "headers = {\n",
    "    'Ocp-Apim-Subscription-Key': subscription_key,\n",
    "    'Ocp-Apim-Subscription-Region': location,\n",
    "    'Content-type': 'application/json',\n",
    "    'X-ClientTraceId': str(uuid.uuid4())\n",
    "}\n",
    "\n",
    "body = [{'text' : 'How good is Machine Translation?'}]\n",
    "request = requests.post(constructed_url, headers=headers, json=body)\n",
    "response = request.json()\n",
    "\n",
    "print(json.dumps(response, sort_keys=True, indent=4, separators=(',', ': ')))\n"
   ],
   "execution_count": null,
   "outputs": [
    {
     "output_type": "stream",
     "name": "stdout",
     "text": [
      "[\n",
      "    {\n",
      "        \"detectedLanguage\": {\n",
      "            \"language\": \"en\",\n",
      "            \"score\": 1.0\n",
      "        },\n",
      "        \"translations\": [\n",
      "            {\n",
      "                \"text\": \"Wie gut ist maschinelle \\u00dcbersetzung?\",\n",
      "                \"to\": \"de\"\n",
      "            }\n",
      "        ]\n",
      "    }\n",
      "]\n"
     ]
    }
   ]
  },
  {
   "metadata": {},
   "cell_type": "markdown",
   "source": [
    "Google Cloud also has a translate service, which can be explored as an additional exercise.\n",
    "#todo: get a trial subscription key and show output for this, and perhaps add google example code from: https://cloud.google.com/translate/docs"
   ]
  }
 ]
}
