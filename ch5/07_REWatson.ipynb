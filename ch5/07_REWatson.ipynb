{
 "nbformat": 4,
 "nbformat_minor": 0,
 "metadata": {
  "kernelspec": {
   "display_name": "Python 3",
   "language": "python",
   "name": "python3"
  },
  "language_info": {
   "codemirror_mode": {
    "name": "ipython",
    "version": 3
   },
   "file_extension": ".py",
   "mimetype": "text/x-python",
   "name": "python",
   "nbconvert_exporter": "python",
   "pygments_lexer": "ipython3",
   "version": "3.6.8"
  },
  "colab": {
   "name": "07_REWatson.ipynb",
   "provenance": [
    {
     "file_id": "https://github.com/practical-nlp/practical-nlp/blob/master/Ch5/07_REWatson.ipynb",
     "timestamp": 1620359837646
    }
   ]
  }
 },
 "cells": [
  {
   "cell_type": "markdown",
   "metadata": {
    "id": "h1LvyMCvcnft"
   },
   "source": [
    "This notebook shows an example of Relation Extraction with IBM Watson. They have a [free tier](https://www.ibm.com/cloud/free) which you can use to try it out using the API key obtained by registering for it.\n",
    "\n",
    "> Indented block\n",
    "\n"
   ]
  },
  {
   "cell_type": "code",
   "metadata": {
    "colab": {
     "base_uri": "https://localhost:8080/"
    },
    "id": "NPU40jH7-f0T",
    "executionInfo": {
     "status": "ok",
     "timestamp": 1620359915632,
     "user_tz": 240,
     "elapsed": 5989,
     "user": {
      "displayName": "dung tran",
      "photoUrl": "https://lh4.googleusercontent.com/-doHYXWVx74Y/AAAAAAAAAAI/AAAAAAAAQIU/3POXOLrewRE/s64/photo.jpg",
      "userId": "14954118940859551276"
     }
    },
    "outputId": "65108920-8388-44c9-ac12-9e30d847b227"
   },
   "source": [
    "!pip install watson_developer_cloud"
   ],
   "execution_count": 2,
   "outputs": [
    {
     "output_type": "stream",
     "text": [
      "Collecting watson_developer_cloud\n",
      "\u001B[?25l  Downloading https://files.pythonhosted.org/packages/fc/a5/a89fc49bd82eb6ea569e45b43383c28cd51b5076f43010dcc3331c137ff5/watson-developer-cloud-2.10.1.tar.gz (248kB)\n",
      "\u001B[K     |████████████████████████████████| 256kB 12.0MB/s \n",
      "\u001B[?25hRequirement already satisfied: requests<3.0,>=2.0 in /usr/local/lib/python3.7/dist-packages (from watson_developer_cloud) (2.23.0)\n",
      "Requirement already satisfied: python_dateutil>=2.5.3 in /usr/local/lib/python3.7/dist-packages (from watson_developer_cloud) (2.8.1)\n",
      "Collecting websocket-client==0.48.0\n",
      "\u001B[?25l  Downloading https://files.pythonhosted.org/packages/8a/a1/72ef9aa26cfe1a75cee09fc1957e4723add9de098c15719416a1ee89386b/websocket_client-0.48.0-py2.py3-none-any.whl (198kB)\n",
      "\u001B[K     |████████████████████████████████| 204kB 19.3MB/s \n",
      "\u001B[?25hRequirement already satisfied: chardet<4,>=3.0.2 in /usr/local/lib/python3.7/dist-packages (from requests<3.0,>=2.0->watson_developer_cloud) (3.0.4)\n",
      "Requirement already satisfied: idna<3,>=2.5 in /usr/local/lib/python3.7/dist-packages (from requests<3.0,>=2.0->watson_developer_cloud) (2.10)\n",
      "Requirement already satisfied: certifi>=2017.4.17 in /usr/local/lib/python3.7/dist-packages (from requests<3.0,>=2.0->watson_developer_cloud) (2020.12.5)\n",
      "Requirement already satisfied: urllib3!=1.25.0,!=1.25.1,<1.26,>=1.21.1 in /usr/local/lib/python3.7/dist-packages (from requests<3.0,>=2.0->watson_developer_cloud) (1.24.3)\n",
      "Requirement already satisfied: six>=1.5 in /usr/local/lib/python3.7/dist-packages (from python_dateutil>=2.5.3->watson_developer_cloud) (1.15.0)\n",
      "Building wheels for collected packages: watson-developer-cloud\n",
      "  Building wheel for watson-developer-cloud (setup.py) ... \u001B[?25l\u001B[?25hdone\n",
      "  Created wheel for watson-developer-cloud: filename=watson_developer_cloud-2.10.1-cp37-none-any.whl size=252815 sha256=8acd5cf80a4be45faf2de82a88b7075e8752d41f4e43b051602782beb9ed2981\n",
      "  Stored in directory: /root/.cache/pip/wheels/ea/a7/19/fac0a408a586265eb374005308a7553d4494ab41b2fd88f5bc\n",
      "Successfully built watson-developer-cloud\n",
      "Installing collected packages: websocket-client, watson-developer-cloud\n",
      "Successfully installed watson-developer-cloud-2.10.1 websocket-client-0.48.0\n"
     ],
     "name": "stdout"
    }
   ]
  },
  {
   "cell_type": "code",
   "metadata": {
    "id": "Tgo_X-o4cnfv",
    "colab": {
     "base_uri": "https://localhost:8080/"
    },
    "executionInfo": {
     "status": "ok",
     "timestamp": 1620365287034,
     "user_tz": 240,
     "elapsed": 2093,
     "user": {
      "displayName": "dung tran",
      "photoUrl": "https://lh4.googleusercontent.com/-doHYXWVx74Y/AAAAAAAAAAI/AAAAAAAAQIU/3POXOLrewRE/s64/photo.jpg",
      "userId": "14954118940859551276"
     }
    },
    "outputId": "e34732ef-0638-4326-c79d-07c0b1843597"
   },
   "source": [
    "import json\n",
    "from watson_developer_cloud import NaturalLanguageUnderstandingV1\n",
    "from watson_developer_cloud.natural_language_understanding_v1 import Features, RelationsOptions\n",
    "\n",
    "natural_language_understanding = NaturalLanguageUnderstandingV1(\n",
    "    version='2021-03-25',\n",
    "    iam_apikey='',\n",
    "    url='https://api.us-south.natural-language-understanding.watson.cloud.ibm.com/instances/xxxxxxx'\n",
    ")\n",
    "\n",
    "response = natural_language_understanding.analyze(\n",
    "    text='Leonardo DiCaprio won Best Actor in a Leading Role for his performance.',\n",
    "    features=Features(relations=RelationsOptions())).get_result()\n",
    "\n",
    "print(json.dumps(response, indent=2))"
   ],
   "execution_count": 30,
   "outputs": [
    {
     "output_type": "stream",
     "text": [
      "/usr/local/lib/python3.7/dist-packages/ipykernel_launcher.py:8: DeprecationWarning: watson-developer-cloud moved to ibm-watson. To get updates, use the new package.\n",
      "  \n"
     ],
     "name": "stderr"
    },
    {
     "output_type": "stream",
     "text": [
      "{\n",
      "  \"usage\": {\n",
      "    \"text_units\": 1,\n",
      "    \"text_characters\": 71,\n",
      "    \"features\": 1\n",
      "  },\n",
      "  \"relations\": [\n",
      "    {\n",
      "      \"type\": \"awardedTo\",\n",
      "      \"sentence\": \"Leonardo DiCaprio won Best Actor in a Leading Role for his performance.\",\n",
      "      \"score\": 0.680715,\n",
      "      \"arguments\": [\n",
      "        {\n",
      "          \"text\": \"Best Actor\",\n",
      "          \"location\": [\n",
      "            22,\n",
      "            32\n",
      "          ],\n",
      "          \"entities\": [\n",
      "            {\n",
      "              \"type\": \"EntertainmentAward\",\n",
      "              \"text\": \"Best Actor\"\n",
      "            }\n",
      "          ]\n",
      "        },\n",
      "        {\n",
      "          \"text\": \"Leonardo DiCaprio\",\n",
      "          \"location\": [\n",
      "            0,\n",
      "            17\n",
      "          ],\n",
      "          \"entities\": [\n",
      "            {\n",
      "              \"type\": \"Person\",\n",
      "              \"text\": \"Leonardo DiCaprio\"\n",
      "            }\n",
      "          ]\n",
      "        }\n",
      "      ]\n",
      "    }\n",
      "  ],\n",
      "  \"language\": \"en\"\n",
      "}\n"
     ],
     "name": "stdout"
    }
   ]
  },
  {
   "cell_type": "code",
   "metadata": {
    "id": "W0C7khY9cnf0",
    "executionInfo": {
     "status": "ok",
     "timestamp": 1620365290422,
     "user_tz": 240,
     "elapsed": 481,
     "user": {
      "displayName": "dung tran",
      "photoUrl": "https://lh4.googleusercontent.com/-doHYXWVx74Y/AAAAAAAAAAI/AAAAAAAAQIU/3POXOLrewRE/s64/photo.jpg",
      "userId": "14954118940859551276"
     }
    }
   },
   "source": [
    "mytext = \"Satya Narayana Nadella currently serves as the Chief Executive Officer (CEO) of Microsoft.\""
   ],
   "execution_count": 31,
   "outputs": []
  },
  {
   "cell_type": "code",
   "metadata": {
    "id": "ok9whBoIcnf7",
    "colab": {
     "base_uri": "https://localhost:8080/"
    },
    "executionInfo": {
     "status": "ok",
     "timestamp": 1620365296338,
     "user_tz": 240,
     "elapsed": 1749,
     "user": {
      "displayName": "dung tran",
      "photoUrl": "https://lh4.googleusercontent.com/-doHYXWVx74Y/AAAAAAAAAAI/AAAAAAAAQIU/3POXOLrewRE/s64/photo.jpg",
      "userId": "14954118940859551276"
     }
    },
    "outputId": "82dd347f-a1c7-4de3-acd8-41f912368bb5"
   },
   "source": [
    "response = natural_language_understanding.analyze(\n",
    "    text=mytext,\n",
    "    features=Features(relations=RelationsOptions())).get_result()\n",
    "\n",
    "print(json.dumps(response, indent=2))"
   ],
   "execution_count": 32,
   "outputs": [
    {
     "output_type": "stream",
     "text": [
      "{\n",
      "  \"usage\": {\n",
      "    \"text_units\": 1,\n",
      "    \"text_characters\": 90,\n",
      "    \"features\": 1\n",
      "  },\n",
      "  \"relations\": [\n",
      "    {\n",
      "      \"type\": \"employedBy\",\n",
      "      \"sentence\": \"Satya Narayana Nadella currently serves as the Chief Executive Officer (CEO) of Microsoft.\",\n",
      "      \"score\": 0.48706,\n",
      "      \"arguments\": [\n",
      "        {\n",
      "          \"text\": \"CEO\",\n",
      "          \"location\": [\n",
      "            72,\n",
      "            75\n",
      "          ],\n",
      "          \"entities\": [\n",
      "            {\n",
      "              \"type\": \"Person\",\n",
      "              \"text\": \"Satya Narayana Nadella\"\n",
      "            }\n",
      "          ]\n",
      "        },\n",
      "        {\n",
      "          \"text\": \"Microsoft\",\n",
      "          \"location\": [\n",
      "            80,\n",
      "            89\n",
      "          ],\n",
      "          \"entities\": [\n",
      "            {\n",
      "              \"type\": \"Organization\",\n",
      "              \"text\": \"Microsoft\",\n",
      "              \"disambiguation\": {\n",
      "                \"subtype\": [\n",
      "                  \"Commercial\"\n",
      "                ]\n",
      "              }\n",
      "            }\n",
      "          ]\n",
      "        }\n",
      "      ]\n",
      "    }\n",
      "  ],\n",
      "  \"language\": \"en\"\n",
      "}\n"
     ],
     "name": "stdout"
    }
   ]
  },
  {
   "cell_type": "code",
   "metadata": {
    "id": "h3SLsI8Mcnf-",
    "colab": {
     "base_uri": "https://localhost:8080/",
     "height": 69
    },
    "executionInfo": {
     "status": "ok",
     "timestamp": 1620365302412,
     "user_tz": 240,
     "elapsed": 445,
     "user": {
      "displayName": "dung tran",
      "photoUrl": "https://lh4.googleusercontent.com/-doHYXWVx74Y/AAAAAAAAAAI/AAAAAAAAQIU/3POXOLrewRE/s64/photo.jpg",
      "userId": "14954118940859551276"
     }
    },
    "outputId": "b3af7002-8d54-40d6-d58d-e600f84a0905"
   },
   "source": [
    "result = json.dumps(response)\n",
    "result"
   ],
   "execution_count": 33,
   "outputs": [
    {
     "output_type": "execute_result",
     "data": {
      "application/vnd.google.colaboratory.intrinsic+json": {
       "type": "string"
      },
      "text/plain": [
       "'{\"usage\": {\"text_units\": 1, \"text_characters\": 90, \"features\": 1}, \"relations\": [{\"type\": \"employedBy\", \"sentence\": \"Satya Narayana Nadella currently serves as the Chief Executive Officer (CEO) of Microsoft.\", \"score\": 0.48706, \"arguments\": [{\"text\": \"CEO\", \"location\": [72, 75], \"entities\": [{\"type\": \"Person\", \"text\": \"Satya Narayana Nadella\"}]}, {\"text\": \"Microsoft\", \"location\": [80, 89], \"entities\": [{\"type\": \"Organization\", \"text\": \"Microsoft\", \"disambiguation\": {\"subtype\": [\"Commercial\"]}}]}]}], \"language\": \"en\"}'"
      ]
     },
     "metadata": {
      "tags": []
     },
     "execution_count": 33
    }
   ]
  },
  {
   "cell_type": "code",
   "metadata": {
    "id": "KhxRifcYcngM",
    "colab": {
     "base_uri": "https://localhost:8080/"
    },
    "executionInfo": {
     "status": "ok",
     "timestamp": 1620365367377,
     "user_tz": 240,
     "elapsed": 444,
     "user": {
      "displayName": "dung tran",
      "photoUrl": "https://lh4.googleusercontent.com/-doHYXWVx74Y/AAAAAAAAAAI/AAAAAAAAQIU/3POXOLrewRE/s64/photo.jpg",
      "userId": "14954118940859551276"
     }
    },
    "outputId": "9b428dff-28dc-4512-fc68-da8314408971"
   },
   "source": [
    "for item in response['relations']:\n",
    "        print(item['type'])\n",
    "        for subitem in item['arguments']:\n",
    "            print(subitem['entities'])\n",
    "print()"
   ],
   "execution_count": 35,
   "outputs": [
    {
     "output_type": "stream",
     "text": [
      "employedBy\n",
      "[{'type': 'Person', 'text': 'Satya Narayana Nadella'}]\n",
      "[{'type': 'Organization', 'text': 'Microsoft', 'disambiguation': {'subtype': ['Commercial']}}]\n",
      "\n"
     ],
     "name": "stdout"
    }
   ]
  },
  {
   "cell_type": "code",
   "metadata": {
    "id": "LPOOAWyzcngP",
    "colab": {
     "base_uri": "https://localhost:8080/"
    },
    "executionInfo": {
     "status": "ok",
     "timestamp": 1620365369808,
     "user_tz": 240,
     "elapsed": 916,
     "user": {
      "displayName": "dung tran",
      "photoUrl": "https://lh4.googleusercontent.com/-doHYXWVx74Y/AAAAAAAAAAI/AAAAAAAAQIU/3POXOLrewRE/s64/photo.jpg",
      "userId": "14954118940859551276"
     }
    },
    "outputId": "9ba63ae0-41ad-47d1-9c08-a6498e2fe5a4"
   },
   "source": [
    "mytext2 = \"Nadella was born in Hyderabad. His father, Bukkapuram Nadella Yugandher, was a civil servant who worked for the Indian Administrative Service of the Government of India. His mother was a Sanskrit scholar. \"\n",
    "response = natural_language_understanding.analyze(\n",
    "    text=mytext2,\n",
    "    features=Features(relations=RelationsOptions())).get_result()\n",
    "for item in response['relations']:\n",
    "        print(item['type'])\n",
    "        for subitem in item['arguments']:\n",
    "            print(subitem['entities'])\n",
    "print()"
   ],
   "execution_count": 36,
   "outputs": [
    {
     "output_type": "stream",
     "text": [
      "bornAt\n",
      "[{'type': 'Person', 'text': 'Nadella'}]\n",
      "[{'type': 'GeopoliticalEntity', 'text': 'Hyderabad'}]\n",
      "parentOf\n",
      "[{'type': 'Person', 'text': 'Bukkapuram Nadella Yugandher'}]\n",
      "[{'type': 'Person', 'text': 'Nadella'}]\n",
      "employedBy\n",
      "[{'type': 'Person', 'text': 'Administrative'}]\n",
      "[{'type': 'GeopoliticalEntity', 'text': 'Indian', 'disambiguation': {'subtype': ['Country']}}]\n",
      "managerOf\n",
      "[{'type': 'Person', 'text': 'Administrative'}]\n",
      "[{'type': 'Organization', 'text': 'Service', 'disambiguation': {'subtype': ['Government']}}]\n",
      "parentOf\n",
      "[{'type': 'Person', 'text': 'scholar'}]\n",
      "[{'type': 'Person', 'text': 'Nadella'}]\n",
      "locatedAt\n",
      "[{'type': 'Person', 'text': 'scholar'}]\n",
      "[{'type': 'Facility', 'text': 'Sanskrit'}]\n",
      "locatedAt\n",
      "[{'type': 'Person', 'text': 'scholar'}]\n",
      "[{'type': 'Facility', 'text': 'Sanskrit'}]\n",
      "\n"
     ],
     "name": "stdout"
    }
   ]
  },
  {
   "cell_type": "code",
   "metadata": {
    "id": "e2zb76UAcngh",
    "colab": {
     "base_uri": "https://localhost:8080/"
    },
    "executionInfo": {
     "status": "ok",
     "timestamp": 1620365378173,
     "user_tz": 240,
     "elapsed": 977,
     "user": {
      "displayName": "dung tran",
      "photoUrl": "https://lh4.googleusercontent.com/-doHYXWVx74Y/AAAAAAAAAAI/AAAAAAAAQIU/3POXOLrewRE/s64/photo.jpg",
      "userId": "14954118940859551276"
     }
    },
    "outputId": "d66a07fb-b5ac-42ae-ab44-1c0e62b6aaf9"
   },
   "source": [
    "mytext3 = \"\"\"Nadella attended the Hyderabad Public School, Begumpet [12] before receiving\n",
    "a bachelor's in electrical engineering[13] from the Manipal Institute of Technology \n",
    "(then part of Mangalore University) in Karnataka in 1988.\"\"\"\n",
    "response = natural_language_understanding.analyze(\n",
    "    text=mytext3,\n",
    "    features=Features(relations=RelationsOptions())).get_result()\n",
    "for item in response['relations']:\n",
    "        print(item['type'])\n",
    "        for subitem in item['arguments']:\n",
    "            print(subitem['entities'])"
   ],
   "execution_count": 37,
   "outputs": [
    {
     "output_type": "stream",
     "text": [
      "employedBy\n",
      "[{'type': 'Person', 'text': 'Nadella'}]\n",
      "[{'type': 'Organization', 'text': 'Hyderabad Public School', 'disambiguation': {'subtype': ['Commercial']}}]\n",
      "awardedTo\n",
      "[{'type': 'Degree', 'text': 'bachelor'}]\n",
      "[{'type': 'Person', 'text': 'Nadella'}]\n",
      "educatedAt\n",
      "[{'type': 'Person', 'text': 'Nadella'}]\n",
      "[{'type': 'Organization', 'text': 'Manipal Institute of Technology', 'disambiguation': {'subtype': ['Educational']}}]\n",
      "educatedAt\n",
      "[{'type': 'Person', 'text': 'Nadella'}]\n",
      "[{'type': 'Organization', 'text': 'Mangalore University', 'disambiguation': {'subtype': ['Educational']}}]\n",
      "awardedBy\n",
      "[{'type': 'Degree', 'text': 'bachelor'}]\n",
      "[{'type': 'Organization', 'text': 'Manipal Institute of Technology', 'disambiguation': {'subtype': ['Educational']}}]\n",
      "basedIn\n",
      "[{'type': 'Organization', 'text': 'Mangalore University', 'disambiguation': {'subtype': ['Educational']}}]\n",
      "[{'type': 'GeopoliticalEntity', 'text': 'Karnataka'}]\n"
     ],
     "name": "stdout"
    }
   ]
  }
 ]
}
