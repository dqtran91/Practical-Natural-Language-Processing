{
 "nbformat": 4,
 "nbformat_minor": 0,
 "metadata": {
  "kernelspec": {
   "display_name": "Python 3",
   "language": "python",
   "name": "python3"
  },
  "language_info": {
   "codemirror_mode": {
    "name": "ipython",
    "version": 3
   },
   "file_extension": ".py",
   "mimetype": "text/x-python",
   "name": "python",
   "nbconvert_exporter": "python",
   "pygments_lexer": "ipython3",
   "version": "3.6.10"
  },
  "colab": {
   "name": "06_EntityLinking-AzureTextAnalytics.ipynb",
   "provenance": [
    {
     "file_id": "https://github.com/practical-nlp/practical-nlp/blob/master/Ch5/06_EntityLinking-AzureTextAnalytics.ipynb",
     "timestamp": 1620351158593
    }
   ]
  }
 },
 "cells": [
  {
   "cell_type": "markdown",
   "metadata": {
    "id": "s-1DDBsIdDqu"
   },
   "source": [
    "This notebook shows how to extract Named Entity linking information using [Azure Text Analytics API](https://docs.microsoft.com/en-us/azure/cognitive-services/text-analytics/)\n",
    "\n",
    "There is a 7 day trial version, which gives you an API key to play with and explore stuff. "
   ]
  },
  {
   "cell_type": "code",
   "metadata": {
    "id": "E3Q21_J4dDqv",
    "executionInfo": {
     "status": "ok",
     "timestamp": 1620357006037,
     "user_tz": 240,
     "elapsed": 427,
     "user": {
      "displayName": "dung tran",
      "photoUrl": "https://lh4.googleusercontent.com/-doHYXWVx74Y/AAAAAAAAAAI/AAAAAAAAQIU/3POXOLrewRE/s64/photo.jpg",
      "userId": "14954118940859551276"
     }
    }
   },
   "source": [
    "import requests\n",
    "import pprint\n",
    "\n",
    "my_api_key = '' #replace this with your api key\n"
   ],
   "execution_count": 1,
   "outputs": []
  },
  {
   "cell_type": "code",
   "metadata": {
    "id": "e6QbUhGhdDqw",
    "executionInfo": {
     "status": "ok",
     "timestamp": 1620358403140,
     "user_tz": 240,
     "elapsed": 294,
     "user": {
      "displayName": "dung tran",
      "photoUrl": "https://lh4.googleusercontent.com/-doHYXWVx74Y/AAAAAAAAAAI/AAAAAAAAQIU/3POXOLrewRE/s64/photo.jpg",
      "userId": "14954118940859551276"
     }
    }
   },
   "source": [
    "def print_entities(text):\n",
    "    url = \"https://msc-text-analytics.cognitiveservices.azure.com/text/analytics/v3.0/entities/recognition/general\"\n",
    "    documents = {'documents':[{'id':'1', 'language':'en', 'text':text}]}\n",
    "    headers = {'Ocp-Apim-Subscription-Key': my_api_key}\n",
    "    response = requests.post(url, headers=headers, json=documents)\n",
    "    entities = response.json()\n",
    "    return entities\n"
   ],
   "execution_count": 37,
   "outputs": []
  },
  {
   "cell_type": "code",
   "metadata": {
    "colab": {
     "base_uri": "https://localhost:8080/"
    },
    "id": "yLww9o0wzyK7",
    "executionInfo": {
     "status": "ok",
     "timestamp": 1620357152400,
     "user_tz": 240,
     "elapsed": 470,
     "user": {
      "displayName": "dung tran",
      "photoUrl": "https://lh4.googleusercontent.com/-doHYXWVx74Y/AAAAAAAAAAI/AAAAAAAAQIU/3POXOLrewRE/s64/photo.jpg",
      "userId": "14954118940859551276"
     }
    },
    "outputId": "02336cdc-c184-4810-b21c-c0182d8a22d2"
   },
   "source": [
    "!wget -P data https://raw.githubusercontent.com/practical-nlp/practical-nlp/master/Ch5/Data/myarticle.txt"
   ],
   "execution_count": 4,
   "outputs": [
    {
     "output_type": "stream",
     "text": [
      "--2021-05-07 03:12:32--  https://raw.githubusercontent.com/practical-nlp/practical-nlp/master/Ch5/Data/myarticle.txt\n",
      "Resolving raw.githubusercontent.com (raw.githubusercontent.com)... 185.199.108.133, 185.199.109.133, 185.199.110.133, ...\n",
      "Connecting to raw.githubusercontent.com (raw.githubusercontent.com)|185.199.108.133|:443... connected.\n",
      "HTTP request sent, awaiting response... 200 OK\n",
      "Length: 1321 (1.3K) [text/plain]\n",
      "Saving to: ‘data/myarticle.txt’\n",
      "\n",
      "\rmyarticle.txt         0%[                    ]       0  --.-KB/s               \rmyarticle.txt       100%[===================>]   1.29K  --.-KB/s    in 0s      \n",
      "\n",
      "2021-05-07 03:12:32 (78.4 MB/s) - ‘data/myarticle.txt’ saved [1321/1321]\n",
      "\n"
     ],
     "name": "stdout"
    }
   ]
  },
  {
   "cell_type": "code",
   "metadata": {
    "id": "Vb_dLs9bdDqx",
    "colab": {
     "base_uri": "https://localhost:8080/"
    },
    "executionInfo": {
     "status": "ok",
     "timestamp": 1620358405500,
     "user_tz": 240,
     "elapsed": 438,
     "user": {
      "displayName": "dung tran",
      "photoUrl": "https://lh4.googleusercontent.com/-doHYXWVx74Y/AAAAAAAAAAI/AAAAAAAAQIU/3POXOLrewRE/s64/photo.jpg",
      "userId": "14954118940859551276"
     }
    },
    "outputId": "1352b0a2-f192-4f52-8d9c-16169377783f"
   },
   "source": [
    "mytext = open(\"data/myarticle.txt\").read() #This file is in the same folder. \n",
    "entities = print_entities(mytext)\n",
    "for document in entities[\"documents\"]:\n",
    "        pprint.pprint(document[\"entities\"])\n",
    "#This above code will print you a whole lot of stuff you may or may not use later."
   ],
   "execution_count": 38,
   "outputs": [
    {
     "output_type": "stream",
     "text": [
      "[{'category': 'Location',\n",
      "  'confidenceScore': 0.96,\n",
      "  'length': 13,\n",
      "  'offset': 0,\n",
      "  'subcategory': 'GPE',\n",
      "  'text': 'SAN FRANCISCO'},\n",
      " {'category': 'Organization',\n",
      "  'confidenceScore': 0.94,\n",
      "  'length': 8,\n",
      "  'offset': 104,\n",
      "  'text': 'Facebook'},\n",
      " {'category': 'DateTime',\n",
      "  'confidenceScore': 0.8,\n",
      "  'length': 8,\n",
      "  'offset': 116,\n",
      "  'subcategory': 'Date',\n",
      "  'text': 'Thursday'},\n",
      " {'category': 'Quantity',\n",
      "  'confidenceScore': 0.8,\n",
      "  'length': 5,\n",
      "  'offset': 133,\n",
      "  'subcategory': 'Number',\n",
      "  'text': 'seven'},\n",
      " {'category': 'PersonType',\n",
      "  'confidenceScore': 0.9,\n",
      "  'length': 5,\n",
      "  'offset': 165,\n",
      "  'text': 'users'},\n",
      " {'category': 'PersonType',\n",
      "  'confidenceScore': 0.82,\n",
      "  'length': 13,\n",
      "  'offset': 190,\n",
      "  'text': 'conservatives'},\n",
      " {'category': 'Skill',\n",
      "  'confidenceScore': 0.8,\n",
      "  'length': 14,\n",
      "  'offset': 259,\n",
      "  'text': 'accountability'},\n",
      " {'category': 'Skill',\n",
      "  'confidenceScore': 0.8,\n",
      "  'length': 10,\n",
      "  'offset': 283,\n",
      "  'text': 'technology'},\n",
      " {'category': 'Skill',\n",
      "  'confidenceScore': 0.8,\n",
      "  'length': 14,\n",
      "  'offset': 310,\n",
      "  'text': 'social network'},\n",
      " {'category': 'Person',\n",
      "  'confidenceScore': 1.0,\n",
      "  'length': 10,\n",
      "  'offset': 344,\n",
      "  'text': 'Alex Jones'},\n",
      " {'category': 'PersonType',\n",
      "  'confidenceScore': 0.71,\n",
      "  'length': 19,\n",
      "  'offset': 360,\n",
      "  'text': 'conspiracy theorist'},\n",
      " {'category': 'PersonType',\n",
      "  'confidenceScore': 0.91,\n",
      "  'length': 7,\n",
      "  'offset': 384,\n",
      "  'text': 'founder'},\n",
      " {'category': 'Organization',\n",
      "  'confidenceScore': 0.85,\n",
      "  'length': 8,\n",
      "  'offset': 395,\n",
      "  'text': 'Infowars'},\n",
      " {'category': 'PersonType',\n",
      "  'confidenceScore': 0.92,\n",
      "  'length': 10,\n",
      "  'offset': 454,\n",
      "  'text': 'extremists'},\n",
      " {'category': 'Person',\n",
      "  'confidenceScore': 1.0,\n",
      "  'length': 15,\n",
      "  'offset': 466,\n",
      "  'text': 'Louis Farrakhan'},\n",
      " {'category': 'PersonType',\n",
      "  'confidenceScore': 0.6,\n",
      "  'length': 5,\n",
      "  'offset': 497,\n",
      "  'text': 'black'},\n",
      " {'category': 'PersonType',\n",
      "  'confidenceScore': 0.7,\n",
      "  'length': 20,\n",
      "  'offset': 503,\n",
      "  'text': 'nationalist minister'},\n",
      " {'category': 'Location',\n",
      "  'confidenceScore': 0.62,\n",
      "  'length': 14,\n",
      "  'offset': 610,\n",
      "  'subcategory': 'GPE',\n",
      "  'text': 'Silicon Valley'},\n",
      " {'category': 'PersonType',\n",
      "  'confidenceScore': 0.95,\n",
      "  'length': 5,\n",
      "  'offset': 644,\n",
      "  'text': 'users'},\n",
      " {'category': 'Organization',\n",
      "  'confidenceScore': 0.78,\n",
      "  'length': 8,\n",
      "  'offset': 677,\n",
      "  'text': 'Facebook'},\n",
      " {'category': 'Organization',\n",
      "  'confidenceScore': 0.72,\n",
      "  'length': 9,\n",
      "  'offset': 690,\n",
      "  'text': 'Instagram'},\n",
      " {'category': 'Skill',\n",
      "  'confidenceScore': 0.8,\n",
      "  'length': 8,\n",
      "  'offset': 880,\n",
      "  'text': 'ideology'},\n",
      " {'category': 'Organization',\n",
      "  'confidenceScore': 0.95,\n",
      "  'length': 8,\n",
      "  'offset': 893,\n",
      "  'text': 'Facebook'},\n",
      " {'category': 'PersonType',\n",
      "  'confidenceScore': 0.93,\n",
      "  'length': 11,\n",
      "  'offset': 902,\n",
      "  'text': 'spokeswoman'},\n",
      " {'category': 'PersonType',\n",
      "  'confidenceScore': 0.86,\n",
      "  'length': 9,\n",
      "  'offset': 973,\n",
      "  'text': 'violators'},\n",
      " {'category': 'DateTime',\n",
      "  'confidenceScore': 0.8,\n",
      "  'length': 5,\n",
      "  'offset': 1059,\n",
      "  'subcategory': 'Date',\n",
      "  'text': 'today'},\n",
      " {'category': 'Organization',\n",
      "  'confidenceScore': 0.95,\n",
      "  'length': 8,\n",
      "  'offset': 1068,\n",
      "  'text': 'Facebook'},\n",
      " {'category': 'Quantity',\n",
      "  'confidenceScore': 0.8,\n",
      "  'length': 3,\n",
      "  'offset': 1087,\n",
      "  'subcategory': 'Number',\n",
      "  'text': 'one'},\n",
      " {'category': 'Skill',\n",
      "  'confidenceScore': 0.8,\n",
      "  'length': 4,\n",
      "  'offset': 1098,\n",
      "  'text': 'tech'},\n",
      " {'category': 'PersonType',\n",
      "  'confidenceScore': 0.83,\n",
      "  'length': 10,\n",
      "  'offset': 1154,\n",
      "  'text': 'extremists'},\n",
      " {'category': 'Skill',\n",
      "  'confidenceScore': 0.8,\n",
      "  'length': 12,\n",
      "  'offset': 1180,\n",
      "  'text': 'social media'}]\n"
     ],
     "name": "stdout"
    }
   ]
  },
  {
   "cell_type": "code",
   "metadata": {
    "id": "57Go8gucdDqx",
    "colab": {
     "base_uri": "https://localhost:8080/"
    },
    "executionInfo": {
     "status": "ok",
     "timestamp": 1620358353712,
     "user_tz": 240,
     "elapsed": 297,
     "user": {
      "displayName": "dung tran",
      "photoUrl": "https://lh4.googleusercontent.com/-doHYXWVx74Y/AAAAAAAAAAI/AAAAAAAAQIU/3POXOLrewRE/s64/photo.jpg",
      "userId": "14954118940859551276"
     }
    },
    "outputId": "dbdb2b0e-3b26-4c03-bf2e-4c10b30e3536"
   },
   "source": [
    "#Let us clean up a little bit, and not print the whole lot of messy stuff it gives us?\n",
    "for document in entities['documents']:\n",
    "    print(\"Entities in this document: \")\n",
    "    for entity in document['entities']:\n",
    "        if entity['category'] in [\"Person\", \"Location\", \"Organization\"]:\n",
    "            print(entity['text'], \"\\t\", entity['category'])\n",
    "            if 'wikipediaUrl' in entity.keys():\n",
    "                print(entity['wikipediaUrl'])"
   ],
   "execution_count": 35,
   "outputs": [
    {
     "output_type": "stream",
     "text": [
      "Entities in this document: \n",
      "SAN FRANCISCO \t Location\n",
      "Facebook \t Organization\n",
      "Alex Jones \t Person\n",
      "Infowars \t Organization\n",
      "Louis Farrakhan \t Person\n",
      "Silicon Valley \t Location\n",
      "Facebook \t Organization\n",
      "Instagram \t Organization\n",
      "Facebook \t Organization\n",
      "Facebook \t Organization\n"
     ],
     "name": "stdout"
    }
   ]
  }
 ]
}
