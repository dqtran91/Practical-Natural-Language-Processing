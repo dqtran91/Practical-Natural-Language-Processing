{
 "nbformat": 4,
 "nbformat_minor": 0,
 "metadata": {
  "colab": {
   "name": "03_TrendingTopics.ipynb",
   "provenance": [
    {
     "file_id": "https://github.com/practical-nlp/practical-nlp-code/blob/master/Ch8/03_TrendingTopics.ipynb",
     "timestamp": 1636075153508
    }
   ],
   "collapsed_sections": []
  },
  "kernelspec": {
   "display_name": "Python 3",
   "language": "python",
   "name": "python3"
  },
  "language_info": {
   "codemirror_mode": {
    "name": "ipython",
    "version": 3
   },
   "file_extension": ".py",
   "mimetype": "text/x-python",
   "name": "python",
   "nbconvert_exporter": "python",
   "pygments_lexer": "ipython3",
   "version": "3.7.4"
  }
 },
 "cells": [
  {
   "cell_type": "markdown",
   "metadata": {
    "id": "6IM1xuTnGlPs"
   },
   "source": [
    "# Trending Topics\n",
    "\n",
    "## In this notebook we show you how to access the most trending topics in a particular location. \n",
    "### pre-requisites: Twitter Developer Account. If you dont have one, dont worry it is free to obtain all you need to do is visit this link and follow the setup process explained [here](https://cran.r-project.org/web/packages/rtweet/vignettes/auth.html)."
   ]
  },
  {
   "cell_type": "code",
   "metadata": {
    "id": "SSKP1W_7p7vL",
    "executionInfo": {
     "status": "ok",
     "timestamp": 1636232517130,
     "user_tz": 240,
     "elapsed": 207,
     "user": {
      "displayName": "dung tran",
      "photoUrl": "https://lh3.googleusercontent.com/a-/AOh14Gj3Re1ab2ZEJ5Z3LszcblJMPlArZupaifrPJWH2RXM=s64",
      "userId": "14954118940859551276"
     }
    }
   },
   "source": [
    "import tweepy, json"
   ],
   "execution_count": 3,
   "outputs": []
  },
  {
   "cell_type": "code",
   "metadata": {
    "id": "toSpm2I4BeTH",
    "executionInfo": {
     "status": "ok",
     "timestamp": 1636232496906,
     "user_tz": 240,
     "elapsed": 4,
     "user": {
      "displayName": "dung tran",
      "photoUrl": "https://lh3.googleusercontent.com/a-/AOh14Gj3Re1ab2ZEJ5Z3LszcblJMPlArZupaifrPJWH2RXM=s64",
      "userId": "14954118940859551276"
     }
    }
   },
   "source": [
    "# Setting all the credentials of your twitter developer account.\n",
    "\n",
    "API_key = ''\n",
    "API_key_secret = ''\n",
    "bearer_token = ''\n",
    "\n",
    "CONSUMER_KEY= ''\n",
    "CONSUMER_SECRET= ''\n",
    "ACCESS_KEY= ''\n",
    "ACCESS_SECRET= ''"
   ],
   "execution_count": 1,
   "outputs": []
  },
  {
   "cell_type": "code",
   "metadata": {
    "id": "oiNcCJPiBfDW",
    "executionInfo": {
     "status": "ok",
     "timestamp": 1636232518920,
     "user_tz": 240,
     "elapsed": 201,
     "user": {
      "displayName": "dung tran",
      "photoUrl": "https://lh3.googleusercontent.com/a-/AOh14Gj3Re1ab2ZEJ5Z3LszcblJMPlArZupaifrPJWH2RXM=s64",
      "userId": "14954118940859551276"
     }
    }
   },
   "source": [
    "# Granting access to your twitter account.\n",
    "\n",
    "auth = tweepy.OAuthHandler(CONSUMER_KEY, CONSUMER_SECRET)\n",
    "auth.set_access_token(ACCESS_KEY, ACCESS_SECRET)\n",
    "api = tweepy.API(auth)"
   ],
   "execution_count": 4,
   "outputs": []
  },
  {
   "cell_type": "code",
   "metadata": {
    "colab": {
     "base_uri": "https://localhost:8080/"
    },
    "id": "wAM5FWYPBix2",
    "executionInfo": {
     "status": "ok",
     "timestamp": 1636233263428,
     "user_tz": 240,
     "elapsed": 391,
     "user": {
      "displayName": "dung tran",
      "photoUrl": "https://lh3.googleusercontent.com/a-/AOh14Gj3Re1ab2ZEJ5Z3LszcblJMPlArZupaifrPJWH2RXM=s64",
      "userId": "14954118940859551276"
     }
    },
    "outputId": "9f377a23-fdcf-49e1-c10b-dbf820a7e9f4"
   },
   "source": [
    "# A WOEID (Where On Earth IDentifier) is a unique 32-bit reference identifier.\n",
    "\n",
    "WORLD_WOE_ID =1\n",
    "COUNTRY_WOE_ID = 23424768\n",
    "\n",
    "# Fetching trending topics in BraziL.\n",
    "\n",
    "country_trends = api.trends_place(COUNTRY_WOE_ID)\n",
    "trends = json.loads(json.dumps(country_trends, indent=1))\n",
    " \n",
    "country_trend_list=[] \n",
    "for trend in trends[0][\"trends\"]:\n",
    "\tcountry_trend_list.append(trend[\"name\"].strip(\"#\"))\n",
    "\n",
    "# Fetching trending topics in the world.\n",
    "world_trends = api.trends_place(WORLD_WOE_ID)\n",
    "world_trends_json = json.loads(json.dumps(world_trends, indent=1))\n",
    "\n",
    "world_trend_list=[] \n",
    "for trend in world_trends_json[0][\"trends\"]:\n",
    "\tworld_trend_list.append(trend[\"name\"].strip(\"#\"))\n",
    " \n",
    "# Printing the topics which are trending in both WORLD and BRAZIL.\n",
    "\n",
    "print(set(world_trend_list).intersection(set(country_trend_list)))"
   ],
   "execution_count": 13,
   "outputs": [
    {
     "output_type": "stream",
     "name": "stdout",
     "text": [
      "{'Adeus Marília', 'Kroos', 'Niko', 'MexicoGP', 'Stroll', 'Asensio', 'Maiara', 'Barcelona', 'Alaba', 'Renato Augusto', 'Neymar', 'Cuadrado', 'Stranger Things', 'Henrique'}\n"
     ]
    }
   ]
  }
 ]
}
